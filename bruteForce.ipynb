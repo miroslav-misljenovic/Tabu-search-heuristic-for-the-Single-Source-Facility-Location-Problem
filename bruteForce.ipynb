{
 "cells": [
  {
   "cell_type": "code",
   "execution_count": 2,
   "metadata": {},
   "outputs": [],
   "source": [
    "import numpy as np\n",
    "import itertools"
   ]
  },
  {
   "cell_type": "code",
   "execution_count": 3,
   "metadata": {},
   "outputs": [],
   "source": [
    "def readInput(filename):\n",
    "    input = open(filename, \"r\")    \n",
    "    nbResources, nbUsers = [int(i) for i in input.readline().split()]\n",
    "    storages = []\n",
    "    fixedCost = []\n",
    "    demands = []\n",
    "    cost = []\n",
    "    for i in range(nbResources):\n",
    "        x, y = [int(i) for i in input.readline().split()]\n",
    "        storages.append(x)\n",
    "        fixedCost.append(y)\n",
    "    for i in range(nbUsers):\n",
    "        x, _ = [int(i) for i in input.readline().split()]\n",
    "        demands.append(x)\n",
    "        cost.append([float(j) for j in input.readline().split()])\n",
    "    \n",
    "    return nbUsers, nbResources, cost, fixedCost, demands, storages"
   ]
  },
  {
   "cell_type": "code",
   "execution_count": 4,
   "metadata": {},
   "outputs": [],
   "source": [
    "def solutionValue(nbUsers, nbResources, cost, fixedCost, solution, demands, storages):\n",
    "    value = 0.0\n",
    "    changes = {}\n",
    "    #used = [False] * nbResources\n",
    "    \n",
    "    for i in range(nbUsers):\n",
    "        minCost = float('inf')\n",
    "        jUsed = -1\n",
    "        for j in range(nbResources):\n",
    "            if (solution[j] and cost[i][j] < minCost) and (demands[i] <= storages[j]):\n",
    "                minCost = cost[i][j]\n",
    "                jUsed = j\n",
    "\n",
    "        if (jUsed == -1):\n",
    "            restoreStorages(changes)\n",
    "            return False\n",
    "\n",
    "        value += minCost\n",
    "        storages[jUsed] -= demands[i]\n",
    "        #used[jUsed] = True\n",
    "        changes[i] = jUsed\n",
    "\n",
    "    for j in range(nbResources):\n",
    "        if solution[j]: # used[j]\n",
    "            value += fixedCost[j]\n",
    " \n",
    "    restoreStorages(changes)\n",
    "    \n",
    "    return value"
   ]
  },
  {
   "cell_type": "code",
   "execution_count": 5,
   "metadata": {},
   "outputs": [],
   "source": [
    "def restoreStorages(changes):\n",
    "    for i in changes:\n",
    "        storages[changes[i]] += demands[i]"
   ]
  },
  {
   "cell_type": "code",
   "execution_count": 11,
   "metadata": {},
   "outputs": [
    {
     "name": "stdout",
     "output_type": "stream",
     "text": [
      "127208.85000000002 (False, True, False, False, True, False, False, False, False, False)\n"
     ]
    }
   ],
   "source": [
    "nbUsers, nbResources, cost, fixedCost, demands, storages = readInput('testExamples/cap51')\n",
    "n = 10\n",
    "nbResources = n\n",
    "nbUsers = n\n",
    "storages = [storages[i] for i in range(n)]\n",
    "fixedCost = [fixedCost[i] for i in range(n)]\n",
    "demands = [demands[i] for i in range(n)]\n",
    "\n",
    "#print('Fixed cost', fixedCost)\n",
    "#print('Demands', demands)\n",
    "#print('Storages', storages)\n",
    "\n",
    "\n",
    "newCost = []\n",
    "for i in range(n):\n",
    "    temp = []\n",
    "    for j in range(n):\n",
    "        temp.append(cost[i][j])\n",
    "    newCost.append(temp)\n",
    "\n",
    "# for i in range(n):\n",
    "#     print('\\n', newCost[i])\n",
    "\n",
    "l = [False, True]\n",
    "a = list(itertools.product(l, repeat=n))\n",
    "\n",
    "brutePrime = float('inf')\n",
    "bestSolution = []\n",
    "for solution in a:\n",
    "    currValue = solutionValue(nbUsers, nbResources, newCost, fixedCost, solution, demands, storages)\n",
    "    if (currValue < brutePrime) & (currValue != False):\n",
    "        brutePrime = currValue\n",
    "        bestSolution = solution\n",
    "        #print(greedyPrime)\n",
    "        \n",
    "\n",
    "print(brutePrime, bestSolution)"
   ]
  },
  {
   "cell_type": "code",
   "execution_count": null,
   "metadata": {},
   "outputs": [],
   "source": []
  }
 ],
 "metadata": {
  "kernelspec": {
   "display_name": "Python 3",
   "language": "python",
   "name": "python3"
  },
  "language_info": {
   "codemirror_mode": {
    "name": "ipython",
    "version": 3
   },
   "file_extension": ".py",
   "mimetype": "text/x-python",
   "name": "python",
   "nbconvert_exporter": "python",
   "pygments_lexer": "ipython3",
   "version": "3.6.8"
  }
 },
 "nbformat": 4,
 "nbformat_minor": 2
}
