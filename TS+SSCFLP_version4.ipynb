{
 "cells": [
  {
   "cell_type": "code",
   "execution_count": 1,
   "metadata": {},
   "outputs": [],
   "source": [
    "import random\n",
    "import math"
   ]
  },
  {
   "cell_type": "code",
   "execution_count": 2,
   "metadata": {},
   "outputs": [],
   "source": [
    "def shuffleUsers(nbUsers):\n",
    "    \n",
    "    users = [int(i) for i in range(nbUsers)]\n",
    "    \n",
    "    random.shuffle(users)\n",
    "    \n",
    "    return users"
   ]
  },
  {
   "cell_type": "code",
   "execution_count": 3,
   "metadata": {},
   "outputs": [],
   "source": [
    "def solutionInTabu(T, newSolution):\n",
    "    for l in T:\n",
    "        if newSolution == l:\n",
    "            return True\n",
    "    return False"
   ]
  },
  {
   "cell_type": "code",
   "execution_count": 4,
   "metadata": {},
   "outputs": [],
   "source": [
    "def isFeasible(nbResources, solution):\n",
    "    for j in range(nbResources):\n",
    "        if solution[j]:\n",
    "            return True\n",
    "    return False"
   ]
  },
  {
   "cell_type": "code",
   "execution_count": 5,
   "metadata": {},
   "outputs": [],
   "source": [
    "def initialize(nbResources, probability):\n",
    "    solution = []\n",
    "    for j in range(nbResources):\n",
    "        solution.append(random.random() < probability)\n",
    "        \n",
    "    if not isFeasible(nbResources, solution):\n",
    "        solution[random.randrange(nbResources)] = True\n",
    "        \n",
    "    return solution"
   ]
  },
  {
   "cell_type": "code",
   "execution_count": 6,
   "metadata": {},
   "outputs": [],
   "source": [
    "def invert(nbResources, solution):\n",
    "    newSolution = list(solution)\n",
    "    j = random.randrange(nbResources)\n",
    "    newSolution[j] = not newSolution[j]\n",
    "    if isFeasible(nbResources, newSolution):\n",
    "        return j, newSolution\n",
    "    return -1, solution"
   ]
  },
  {
   "cell_type": "code",
   "execution_count": 7,
   "metadata": {},
   "outputs": [],
   "source": [
    "def restore(j, sol):\n",
    "    sol[j] = not sol[j]\n",
    "\n",
    "def restoreStorages(changes):\n",
    "    for i in changes:\n",
    "        storages[changes[i]] += demands[i]"
   ]
  },
  {
   "cell_type": "code",
   "execution_count": 8,
   "metadata": {},
   "outputs": [],
   "source": [
    "def readInput(filename):\n",
    "    input = open(filename, \"r\")    \n",
    "    nbResources, nbUsers = [int(i) for i in input.readline().split()]\n",
    "    storages = []\n",
    "    fixedCost = []\n",
    "    demands = []\n",
    "    cost = []\n",
    "    for i in range(nbResources):\n",
    "        x, y = [int(i) for i in input.readline().split()]\n",
    "        storages.append(x)\n",
    "        fixedCost.append(y)\n",
    "    for i in range(nbUsers):\n",
    "        x, _ = [int(i) for i in input.readline().split()]\n",
    "        demands.append(x)\n",
    "        cost.append([float(j) for j in input.readline().split()])\n",
    "    \n",
    "    return nbUsers, nbResources, cost, fixedCost, demands, storages"
   ]
  },
  {
   "cell_type": "code",
   "execution_count": 9,
   "metadata": {},
   "outputs": [],
   "source": [
    "def solutionValue(nbUsers, nbResources, cost, fixedCost,\\\n",
    "                  solution, demands, storages):\n",
    "    globalValue = float('inf')\n",
    "    value = 0.0\n",
    "    used = [False] * nbResources\n",
    "    changes = {}\n",
    "    \n",
    "    for i in range(math.ceil(math.sqrt(nbUsers))):\n",
    "        users = shuffleUsers(nbUsers)\n",
    "    \n",
    "        for i in users:\n",
    "            minCost = float('inf')\n",
    "            jUsed = -1\n",
    "            for j in range(nbResources):\n",
    "                if (solution[j] and cost[i][j] < minCost) and \\\n",
    "                        (demands[i] <= storages[j]):\n",
    "                    minCost = cost[i][j]\n",
    "                    jUsed = j\n",
    "\n",
    "            if (jUsed == -1):\n",
    "                restoreStorages(changes)\n",
    "                return False\n",
    "\n",
    "            value += minCost\n",
    "            storages[jUsed] -= demands[i]\n",
    "            used[jUsed] = True\n",
    "\n",
    "            changes[i] = jUsed\n",
    "\n",
    "        for j in range(nbResources):\n",
    "            if used[j]:\n",
    "                value += fixedCost[j]\n",
    "                \n",
    "        \n",
    "        solution = used\n",
    "        restoreStorages(changes)\n",
    "        \n",
    "        if value < globalValue:\n",
    "            globalValue = value\n",
    "    \n",
    "    return globalValue"
   ]
  },
  {
   "cell_type": "code",
   "execution_count": 10,
   "metadata": {},
   "outputs": [],
   "source": [
    "def tabuSearch(nbUsers, nbResources, cost, fixedCost,\\\n",
    "               demands, storages, solution, maxIters, tabuListLength):\n",
    "    \n",
    "    for i in range(maxIters):\n",
    "        currValue = solutionValue(nbUsers, nbResources, cost, fixedCost, solution, demands, storages)\n",
    "        if(not currValue):\n",
    "            continue\n",
    "        break\n",
    "    \n",
    "    if (currValue == False): # i == maxIters\n",
    "        print('Starting point not found!\\n')\n",
    "        return False\n",
    "    \n",
    "    bestValue = currValue\n",
    "   \n",
    "    i = 0\n",
    "    T = []\n",
    "    \n",
    "    T.append(solution)\n",
    "    \n",
    "    while (i < maxIters):\n",
    "        \n",
    "        j, newSolution = invert(nbResources, solution)\n",
    "        solution = newSolution\n",
    "        \n",
    "        if j < 0:\n",
    "            continue\n",
    "        \n",
    "        if (solutionInTabu(T, newSolution)):\n",
    "            i+=1\n",
    "            continue\n",
    "            \n",
    "        newValue = solutionValue(nbUsers, nbResources, cost, fixedCost, newSolution, demands, storages)\n",
    "\n",
    "        \n",
    "        if (newValue < currValue and newValue):\n",
    "            currValue = newValue\n",
    "        else:\n",
    "            restore(j, newSolution)\n",
    "            \n",
    "        if (newValue < bestValue and newValue):\n",
    "            bestValue = newValue\n",
    "            if(len(T) >= tabuListLength):\n",
    "                del T[0]\n",
    "            T.append(newSolution)\n",
    "        i += 1\n",
    "        \n",
    "    return bestValue"
   ]
  },
  {
   "cell_type": "code",
   "execution_count": 11,
   "metadata": {},
   "outputs": [
    {
     "name": "stdout",
     "output_type": "stream",
     "text": [
      "Best value: 1012186.9749999997\n"
     ]
    }
   ],
   "source": [
    "nbUsers, nbResources, cost, fixedCost, demands, storages = readInput('testExamples/cap51')\n",
    "#nbUsers = 10\n",
    "#nbResources = 10\n",
    "#print(nbUsers)\n",
    "#print(nbResources)\n",
    "#print(shuffleUsers(nbUsers))\n",
    "#print('Fixed cost\\\\n', fixedCost)\n",
    "#print('Demands\\\\n', demands)\n",
    "#print('Cost\\\\n{}'.format(cost))\n",
    "#print('Storages\\\\n', storages)\n",
    "#print(demands)\n",
    "#print(sum(demands))\n",
    "prime = float('inf')\n",
    "\n",
    "for i in range(100):\n",
    "    solution = initialize(nbResources, 0.7)\n",
    "    bestValue = tabuSearch(nbUsers, nbResources, cost , fixedCost, demands, storages, solution, 1000, 100)\n",
    "\n",
    "    if ((bestValue < prime) & (bestValue != False)):\n",
    "        prime = bestValue\n",
    "        \n",
    "print('Best value:', prime)"
   ]
  },
  {
   "cell_type": "code",
   "execution_count": null,
   "metadata": {},
   "outputs": [],
   "source": []
  }
 ],
 "metadata": {
  "kernelspec": {
   "display_name": "Python 3",
   "language": "python",
   "name": "python3"
  },
  "language_info": {
   "codemirror_mode": {
    "name": "ipython",
    "version": 3
   },
   "file_extension": ".py",
   "mimetype": "text/x-python",
   "name": "python",
   "nbconvert_exporter": "python",
   "pygments_lexer": "ipython3",
   "version": "3.6.8"
  }
 },
 "nbformat": 4,
 "nbformat_minor": 2
}
